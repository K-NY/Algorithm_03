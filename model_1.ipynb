{
  "nbformat": 4,
  "nbformat_minor": 0,
  "metadata": {
    "colab": {
      "name": "model_1.ipynb",
      "provenance": [],
      "collapsed_sections": []
    },
    "kernelspec": {
      "name": "python3",
      "display_name": "Python 3"
    },
    "language_info": {
      "name": "python"
    }
  },
  "cells": [
    {
      "cell_type": "code",
      "execution_count": 41,
      "metadata": {
        "id": "di9Mc-YRx5DD"
      },
      "outputs": [],
      "source": [
        "import tensorflow as tf\n",
        "from tensorflow import keras\n",
        "import tensorflow.python.keras\n",
        "import numpy as np \n",
        "import matplotlib.pyplot as plt"
      ]
    },
    {
      "cell_type": "code",
      "source": [
        "mnist = keras.datasets.mnist\n",
        "(train_images, train_labels), (test_images, test_labels) = mnist.load_data()"
      ],
      "metadata": {
        "id": "8GJWGbjMzAEO"
      },
      "execution_count": 42,
      "outputs": []
    },
    {
      "cell_type": "code",
      "source": [
        "print('Shape of Train images :',train_images.shape)\n",
        "print('Shape of Train labels : ', train_labels.shape)\n",
        "print('\\nShape of Test images : ', test_images.shape)\n",
        "print(\"Shape of Test labels : \",test_labels.shape)"
      ],
      "metadata": {
        "colab": {
          "base_uri": "https://localhost:8080/"
        },
        "id": "PLhGcuOszDGy",
        "outputId": "852005a3-7e75-44be-fcb4-9a119f13b978"
      },
      "execution_count": 43,
      "outputs": [
        {
          "output_type": "stream",
          "name": "stdout",
          "text": [
            "Shape of Train images : (60000, 28, 28)\n",
            "Shape of Train labels :  (60000,)\n",
            "\n",
            "Shape of Test images :  (10000, 28, 28)\n",
            "Shape of Test labels :  (10000,)\n"
          ]
        }
      ]
    },
    {
      "cell_type": "code",
      "source": [
        "print('Train labels : ',train_labels)"
      ],
      "metadata": {
        "colab": {
          "base_uri": "https://localhost:8080/"
        },
        "id": "9Hu2asEuzHrI",
        "outputId": "15430a42-5e7b-4599-90df-e8dde37a9977"
      },
      "execution_count": 44,
      "outputs": [
        {
          "output_type": "stream",
          "name": "stdout",
          "text": [
            "Train labels :  [5 0 4 ... 5 6 8]\n"
          ]
        }
      ]
    },
    {
      "cell_type": "code",
      "source": [
        "print(train_images[1])"
      ],
      "metadata": {
        "colab": {
          "base_uri": "https://localhost:8080/"
        },
        "id": "ljKGpS_6zJiI",
        "outputId": "184b5f0e-6fa2-4ee1-fa08-d06b849b3666"
      },
      "execution_count": 45,
      "outputs": [
        {
          "output_type": "stream",
          "name": "stdout",
          "text": [
            "[[  0   0   0   0   0   0   0   0   0   0   0   0   0   0   0   0   0   0\n",
            "    0   0   0   0   0   0   0   0   0   0]\n",
            " [  0   0   0   0   0   0   0   0   0   0   0   0   0   0   0   0   0   0\n",
            "    0   0   0   0   0   0   0   0   0   0]\n",
            " [  0   0   0   0   0   0   0   0   0   0   0   0   0   0   0   0   0   0\n",
            "    0   0   0   0   0   0   0   0   0   0]\n",
            " [  0   0   0   0   0   0   0   0   0   0   0   0   0   0   0   0   0   0\n",
            "    0   0   0   0   0   0   0   0   0   0]\n",
            " [  0   0   0   0   0   0   0   0   0   0   0   0   0   0   0  51 159 253\n",
            "  159  50   0   0   0   0   0   0   0   0]\n",
            " [  0   0   0   0   0   0   0   0   0   0   0   0   0   0  48 238 252 252\n",
            "  252 237   0   0   0   0   0   0   0   0]\n",
            " [  0   0   0   0   0   0   0   0   0   0   0   0   0  54 227 253 252 239\n",
            "  233 252  57   6   0   0   0   0   0   0]\n",
            " [  0   0   0   0   0   0   0   0   0   0   0  10  60 224 252 253 252 202\n",
            "   84 252 253 122   0   0   0   0   0   0]\n",
            " [  0   0   0   0   0   0   0   0   0   0   0 163 252 252 252 253 252 252\n",
            "   96 189 253 167   0   0   0   0   0   0]\n",
            " [  0   0   0   0   0   0   0   0   0   0  51 238 253 253 190 114 253 228\n",
            "   47  79 255 168   0   0   0   0   0   0]\n",
            " [  0   0   0   0   0   0   0   0   0  48 238 252 252 179  12  75 121  21\n",
            "    0   0 253 243  50   0   0   0   0   0]\n",
            " [  0   0   0   0   0   0   0   0  38 165 253 233 208  84   0   0   0   0\n",
            "    0   0 253 252 165   0   0   0   0   0]\n",
            " [  0   0   0   0   0   0   0   7 178 252 240  71  19  28   0   0   0   0\n",
            "    0   0 253 252 195   0   0   0   0   0]\n",
            " [  0   0   0   0   0   0   0  57 252 252  63   0   0   0   0   0   0   0\n",
            "    0   0 253 252 195   0   0   0   0   0]\n",
            " [  0   0   0   0   0   0   0 198 253 190   0   0   0   0   0   0   0   0\n",
            "    0   0 255 253 196   0   0   0   0   0]\n",
            " [  0   0   0   0   0   0  76 246 252 112   0   0   0   0   0   0   0   0\n",
            "    0   0 253 252 148   0   0   0   0   0]\n",
            " [  0   0   0   0   0   0  85 252 230  25   0   0   0   0   0   0   0   0\n",
            "    7 135 253 186  12   0   0   0   0   0]\n",
            " [  0   0   0   0   0   0  85 252 223   0   0   0   0   0   0   0   0   7\n",
            "  131 252 225  71   0   0   0   0   0   0]\n",
            " [  0   0   0   0   0   0  85 252 145   0   0   0   0   0   0   0  48 165\n",
            "  252 173   0   0   0   0   0   0   0   0]\n",
            " [  0   0   0   0   0   0  86 253 225   0   0   0   0   0   0 114 238 253\n",
            "  162   0   0   0   0   0   0   0   0   0]\n",
            " [  0   0   0   0   0   0  85 252 249 146  48  29  85 178 225 253 223 167\n",
            "   56   0   0   0   0   0   0   0   0   0]\n",
            " [  0   0   0   0   0   0  85 252 252 252 229 215 252 252 252 196 130   0\n",
            "    0   0   0   0   0   0   0   0   0   0]\n",
            " [  0   0   0   0   0   0  28 199 252 252 253 252 252 233 145   0   0   0\n",
            "    0   0   0   0   0   0   0   0   0   0]\n",
            " [  0   0   0   0   0   0   0  25 128 252 253 252 141  37   0   0   0   0\n",
            "    0   0   0   0   0   0   0   0   0   0]\n",
            " [  0   0   0   0   0   0   0   0   0   0   0   0   0   0   0   0   0   0\n",
            "    0   0   0   0   0   0   0   0   0   0]\n",
            " [  0   0   0   0   0   0   0   0   0   0   0   0   0   0   0   0   0   0\n",
            "    0   0   0   0   0   0   0   0   0   0]\n",
            " [  0   0   0   0   0   0   0   0   0   0   0   0   0   0   0   0   0   0\n",
            "    0   0   0   0   0   0   0   0   0   0]\n",
            " [  0   0   0   0   0   0   0   0   0   0   0   0   0   0   0   0   0   0\n",
            "    0   0   0   0   0   0   0   0   0   0]]\n"
          ]
        }
      ]
    },
    {
      "cell_type": "code",
      "source": [
        "print('First 10 Train images in MNIST dataset\\n')\n",
        "for i in range(10):\n",
        "    plt.subplot(1, 10, i+1)\n",
        "    plt.xticks([])\n",
        "    plt.yticks([])\n",
        "    plt.imshow(train_images[i])\n",
        "plt.show()\n",
        "print('\\nTrain labels match with Train label sequentialy\\n',train_labels[:10])"
      ],
      "metadata": {
        "colab": {
          "base_uri": "https://localhost:8080/",
          "height": 154
        },
        "id": "gJak2G4jzMkm",
        "outputId": "e959637e-7a9a-42ce-b177-d7883683df86"
      },
      "execution_count": 46,
      "outputs": [
        {
          "output_type": "stream",
          "name": "stdout",
          "text": [
            "First 10 Train images in MNIST dataset\n",
            "\n"
          ]
        },
        {
          "output_type": "display_data",
          "data": {
            "text/plain": [
              "<Figure size 432x288 with 10 Axes>"
            ],
            "image/png": "[encoded data removed]"
          },
          "metadata": {}
        },
        {
          "output_type": "stream",
          "name": "stdout",
          "text": [
            "\n",
            "Train labels match with Train label sequentialy\n",
            " [5 0 4 1 9 2 1 3 1 4]\n"
          ]
        }
      ]
    },
    {
      "cell_type": "code",
      "source": [
        "train_images = tf.reshape(train_images, [-1, 28, 28, 1])\n",
        "test_images = tf.reshape(test_images, [-1, 28, 28, 1])"
      ],
      "metadata": {
        "id": "Y7NDWw4rzN6T"
      },
      "execution_count": 47,
      "outputs": []
    },
    {
      "cell_type": "code",
      "source": [
        "def select_model(model_number):\n",
        "    if model_number == 1:\n",
        "        model = keras.models.Sequential([\n",
        "                    keras.layers.Conv2D(32, (3,3), activation = 'relu', input_shape = (28, 28,1)),  # layer 1 \n",
        "                    keras.layers.MaxPool2D((2,2)),                                                  # layer 2 \n",
        "                    keras.layers.Flatten(),\n",
        "                    keras.layers.Dense(10, activation = 'softmax')])                                # layer 3\n",
        "\n",
        "    if model_number == 2:\n",
        "        model = keras.models.Sequential([\n",
        "                    keras.layers.Conv2D(32, (3,3), activation = 'relu', input_shape=(28,28,1)),     # layer 1 \n",
        "                    keras.layers.MaxPool2D((2,2)),                                                  # layer 2\n",
        "                    keras.layers.Conv2D(64, (3,3), activation = 'relu'),                            # layer 3 \n",
        "                    keras.layers.MaxPool2D((2,2)),                                                  # layer 4\n",
        "                    keras.layers.Flatten(),\n",
        "                    keras.layers.Dense(10, activation = 'softmax')])                                # layer 5\n",
        "                    \n",
        "    if model_number == 3: \n",
        "        model = keras.models.Sequential([\n",
        "                    keras.layers.Conv2D(32, (3,3), activation = 'relu', input_shape = (28, 28,1)),  # layer 1\n",
        "                    keras.layers.MaxPool2D((2,2)),                                                  # layer 2\n",
        "                    keras.layers.Conv2D(64, (3,3), activation = 'relu'),                            # layer 3\n",
        "                    keras.layers.Conv2D(64, (3,3), activation = 'relu'),                            # layer 4\n",
        "                    keras.layers.MaxPool2D((2,2)),                                                  # layer 5\n",
        "                    keras.layers.Conv2D(128, (3,3), activation = 'relu'),                           # layer 6\n",
        "                    keras.layers.Flatten(),\n",
        "                    keras.layers.Dense(10, activation = 'softmax')])                                # layer 7\n",
        "    \n",
        "    return model \n"
      ],
      "metadata": {
        "id": "qydXHMUTzTLa"
      },
      "execution_count": 48,
      "outputs": []
    },
    {
      "cell_type": "code",
      "source": [
        "model = select_model(1)"
      ],
      "metadata": {
        "id": "NzYaI9iWzUwM"
      },
      "execution_count": 49,
      "outputs": []
    },
    {
      "cell_type": "code",
      "source": [
        "model.summary()"
      ],
      "metadata": {
        "colab": {
          "base_uri": "https://localhost:8080/"
        },
        "id": "w5i-OT8bzYXj",
        "outputId": "ef838888-f1df-4244-c092-a92073b7ee68"
      },
      "execution_count": 50,
      "outputs": [
        {
          "output_type": "stream",
          "name": "stdout",
          "text": [
            "Model: \"sequential_2\"\n",
            "_________________________________________________________________\n",
            " Layer (type)                Output Shape              Param #   \n",
            "=================================================================\n",
            " conv2d_2 (Conv2D)           (None, 26, 26, 32)        320       \n",
            "                                                                 \n",
            " max_pooling2d_2 (MaxPooling  (None, 13, 13, 32)       0         \n",
            " 2D)                                                             \n",
            "                                                                 \n",
            " flatten_2 (Flatten)         (None, 5408)              0         \n",
            "                                                                 \n",
            " dense_2 (Dense)             (None, 10)                54090     \n",
            "                                                                 \n",
            "=================================================================\n",
            "Total params: 54,410\n",
            "Trainable params: 54,410\n",
            "Non-trainable params: 0\n",
            "_________________________________________________________________\n"
          ]
        }
      ]
    },
    {
      "cell_type": "code",
      "source": [
        "model.compile(\n",
        "    optimizer = 'adam',\n",
        "    loss = 'sparse_categorical_crossentropy',\n",
        "    metrics = ['accuracy']\n",
        ")"
      ],
      "metadata": {
        "id": "1ZxWbGVuzhEN"
      },
      "execution_count": 51,
      "outputs": []
    },
    {
      "cell_type": "code",
      "source": [
        "model.fit(train_images, train_labels,  epochs = 5)\n"
      ],
      "metadata": {
        "colab": {
          "base_uri": "https://localhost:8080/"
        },
        "id": "-nl8rXbRzlYd",
        "outputId": "b2c429e6-b960-452e-def9-566bda0aacf3"
      },
      "execution_count": 52,
      "outputs": [
        {
          "output_type": "stream",
          "name": "stdout",
          "text": [
            "Epoch 1/5\n",
            "1875/1875 [==============================] - 24s 13ms/step - loss: 0.5330 - accuracy: 0.9423\n",
            "Epoch 2/5\n",
            "1875/1875 [==============================] - 24s 13ms/step - loss: 0.0860 - accuracy: 0.9754\n",
            "Epoch 3/5\n",
            "1875/1875 [==============================] - 25s 13ms/step - loss: 0.0741 - accuracy: 0.9782\n",
            "Epoch 4/5\n",
            "1875/1875 [==============================] - 24s 13ms/step - loss: 0.0622 - accuracy: 0.9816\n",
            "Epoch 5/5\n",
            "1875/1875 [==============================] - 24s 13ms/step - loss: 0.0549 - accuracy: 0.9828\n"
          ]
        },
        {
          "output_type": "execute_result",
          "data": {
            "text/plain": [
              "<keras.callbacks.History at 0x7f75dff66610>"
            ]
          },
          "metadata": {},
          "execution_count": 52
        }
      ]
    },
    {
      "cell_type": "code",
      "source": [
        "test_loss, accuracy = model.evaluate(test_images, test_labels, verbose = 2)\n",
        "print('\\nTest loss : ', test_loss)\n",
        "print('Test accuracy :', accuracy)"
      ],
      "metadata": {
        "colab": {
          "base_uri": "https://localhost:8080/"
        },
        "id": "pGFNdCQjzqoA",
        "outputId": "c87a0178-c372-4e79-d590-e84e20253e3d"
      },
      "execution_count": 53,
      "outputs": [
        {
          "output_type": "stream",
          "name": "stdout",
          "text": [
            "313/313 - 2s - loss: 0.1150 - accuracy: 0.9727 - 2s/epoch - 5ms/step\n",
            "\n",
            "Test loss :  0.11503427475690842\n",
            "Test accuracy : 0.9726999998092651\n"
          ]
        }
      ]
    },
    {
      "cell_type": "code",
      "source": [
        "test_images = tf.cast(test_images, tf.float32)\n",
        "pred = model.predict(test_images)\n",
        "Number = [0,1,2,3,4,5,6,7,8,9]"
      ],
      "metadata": {
        "id": "ZJjGaaBkztzO"
      },
      "execution_count": 54,
      "outputs": []
    },
    {
      "cell_type": "code",
      "source": [
        "print('Prediction : ', pred.shape)\n",
        "print('Test labels : ', test_labels.shape)"
      ],
      "metadata": {
        "colab": {
          "base_uri": "https://localhost:8080/"
        },
        "id": "Itx197mbzvis",
        "outputId": "bf6d7deb-8904-4613-918d-76ac0d3afa6b"
      },
      "execution_count": 55,
      "outputs": [
        {
          "output_type": "stream",
          "name": "stdout",
          "text": [
            "Prediction :  (10000, 10)\n",
            "Test labels :  (10000,)\n"
          ]
        }
      ]
    },
    {
      "cell_type": "code",
      "source": [
        "def plot_image(i, predictions_array, true_label, img):\n",
        "  predictions_array, true_label, img = predictions_array[i], true_label[i], img[i]\n",
        "  plt.grid(False)\n",
        "  plt.xticks([])\n",
        "  plt.yticks([])\n",
        "\n",
        "  plt.imshow(img, cmap=plt.cm.binary)\n",
        "\n",
        "  predicted_label = np.argmax(predictions_array)\n",
        "  if predicted_label == true_label:\n",
        "    color = 'blue'\n",
        "  else:\n",
        "    color = 'red'\n",
        "\n",
        "  plt.xlabel(\"{} {:2.0f}% ({})\".format(Number[predicted_label],\n",
        "                                100*np.max(predictions_array),\n",
        "                                Number[true_label]),\n",
        "                                color=color)\n",
        "\n",
        "def plot_value_array(i, predictions_array, true_label):\n",
        "  predictions_array, true_label = predictions_array[i], true_label[i]\n",
        "  plt.grid(False)\n",
        "  plt.xticks([])\n",
        "  plt.yticks([])\n",
        "  thisplot = plt.bar(range(10), predictions_array, color=\"#777777\")\n",
        "  plt.ylim([0, 1])\n",
        "  predicted_label = np.argmax(predictions_array)\n",
        "  plt.xticks(Number)\n",
        "\n",
        "  thisplot[predicted_label].set_color('red')\n",
        "  thisplot[true_label].set_color('blue')"
      ],
      "metadata": {
        "id": "8FOJpDOAzxez"
      },
      "execution_count": 56,
      "outputs": []
    },
    {
      "cell_type": "code",
      "source": [
        "(train_images, train_labels), (test_images, test_labels) = mnist.load_data()"
      ],
      "metadata": {
        "id": "-y-xH63nzzMe"
      },
      "execution_count": 57,
      "outputs": []
    },
    {
      "cell_type": "code",
      "source": [
        "i = 1\n",
        "plt.figure(figsize=(6,3))\n",
        "plt.subplot(1,2,1)\n",
        "plot_image(i, pred, test_labels, test_images)\n",
        "plt.subplot(1,2,2)\n",
        "plot_value_array(i, pred,  test_labels)\n",
        "plt.show()"
      ],
      "metadata": {
        "colab": {
          "base_uri": "https://localhost:8080/",
          "height": 211
        },
        "id": "v_j5pUTrzzzs",
        "outputId": "21cd48e7-f152-45fd-b49e-974c7b3ce303"
      },
      "execution_count": 58,
      "outputs": [
        {
          "output_type": "display_data",
          "data": {
            "text/plain": [
              "<Figure size 432x216 with 2 Axes>"
            ],
            "image/png": "[encoded data removed]"
          },
          "metadata": {
            "needs_background": "light"
          }
        }
      ]
    },
    {
      "cell_type": "code",
      "source": [
        "num_rows = 5\n",
        "num_cols = 3\n",
        "num_images = num_rows*num_cols\n",
        "plt.figure(figsize=(2*2*num_cols, 2*num_rows))\n",
        "for i in range(num_images):\n",
        "  plt.subplot(num_rows, 2*num_cols, 2*i+1)\n",
        "  plot_image(i, pred, test_labels, test_images)\n",
        "  plt.subplot(num_rows, 2*num_cols, 2*i+2)\n",
        "  plot_value_array(i, pred, test_labels)\n",
        "plt.show()"
      ],
      "metadata": {
        "colab": {
          "base_uri": "https://localhost:8080/",
          "height": 592
        },
        "id": "BkXCcPk30Jjl",
        "outputId": "3bfcd7b5-fd3a-475b-d6f5-19b0519cadb5"
      },
      "execution_count": 59,
      "outputs": [
        {
          "output_type": "display_data",
          "data": {
            "text/plain": [
              "<Figure size 864x720 with 30 Axes>"
            ],
            "image/png": "[encoded data removed]"
          },
          "metadata": {
            "needs_background": "light"
          }
        }
      ]
    },
    {
      "cell_type": "code",
      "source": [
        "def error_mnist(prediction_array, true_label):\n",
        "    error_index = []\n",
        "    \n",
        "    for i in range(true_label.shape[0]):\n",
        "        if np.argmax(prediction_array[i]) != true_label[i]:\n",
        "            error_index.append(i)\n",
        "    return error_index\n",
        "\n",
        "# change num_cols, num_rows if you want to see more result.  \n",
        "def plot_error(index, prediction_array, true_label):\n",
        "    num_cols = 5\n",
        "    num_rows = 5\n",
        "    plt.figure(figsize=(2*2*num_cols, 2*num_rows))\n",
        "\n",
        "    assert len(index) < num_cols * num_rows\n",
        "    for i in range(len(index)):\n",
        "        plt.subplot(num_rows, 2*num_cols, 2*i+1)\n",
        "        idx = index[i]\n",
        "        plt.imshow(test_images[idx])\n",
        "        plt.subplot(num_rows, 2*num_cols, 2*i+2)\n",
        "        plt.bar(range(10), prediction_array[idx])\n",
        "        plt.xticks(Number)"
      ],
      "metadata": {
        "id": "I4eYZ39e0MKd"
      },
      "execution_count": 60,
      "outputs": []
    },
    {
      "cell_type": "code",
      "source": [
        "index = error_mnist(pred, test_labels)\n",
        "index_slice = index[:10]\n",
        "print(index[:10])"
      ],
      "metadata": {
        "colab": {
          "base_uri": "https://localhost:8080/"
        },
        "id": "PCzs9vIW0OYJ",
        "outputId": "841e39b3-4bd7-4bf6-a3c8-2f73829dd1ce"
      },
      "execution_count": 61,
      "outputs": [
        {
          "output_type": "stream",
          "name": "stdout",
          "text": [
            "[62, 96, 158, 247, 264, 266, 282, 320, 321, 340]\n"
          ]
        }
      ]
    },
    {
      "cell_type": "code",
      "source": [
        "plot_error(index_slice, pred, test_labels)"
      ],
      "metadata": {
        "colab": {
          "base_uri": "https://localhost:8080/",
          "height": 256
        },
        "id": "WmvYwOSo0QgX",
        "outputId": "38828d23-34c1-45c4-dcde-85b182ac5197"
      },
      "execution_count": 62,
      "outputs": [
        {
          "output_type": "display_data",
          "data": {
            "text/plain": [
              "<Figure size 1440x720 with 20 Axes>"
            ],
            "image/png": "[encoded data removed]"
          },
          "metadata": {
            "needs_background": "light"
          }
        }
      ]
    }
  ]
}